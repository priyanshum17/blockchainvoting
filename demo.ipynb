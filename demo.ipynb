{
 "cells": [
  {
   "cell_type": "markdown",
   "metadata": {},
   "source": [
    "# Blockchain Voting Application: A Deep Dive and Analysis\n",
    "\n",
    "**Objective:** This notebook serves as a comprehensive demonstration and analysis of the Blockchain Voting Application. Our goal is to showcase the application's ability to query and update assets on a blockchain ledger, as required by the project rubric.\n",
    "\n",
    "We will cover:\n",
    "1.  **Environment Setup:** A brief overview of the steps required to run the application.\n",
    "2.  **Live Demonstration:** Interacting with the smart contract by querying initial vote counts, updating the ledger by casting votes, and querying the final results.\n",
    "3.  **Results Analysis:** Analyzing the outcome of our demonstration, including the security and integrity of the votes.\n",
    "4.  **Learning Experience:** A discussion of the development process, challenges encountered, and key takeaways from building this decentralized application."
   ]
  },
  {
   "cell_type": "markdown",
   "metadata": {},
   "source": [
    "## 1. Environment Setup & Prerequisites\n",
    "\n",
    "Before we begin the demonstration, it's essential to have the application's components running. The following steps are required:\n",
    "\n",
    "1.  **Start a Local Blockchain:** We use `ganache-cli` to run a personal Ethereum blockchain for development.\n",
    "    ```bash\n",
    "    ganache-cli\n",
    "    ```\n",
    "2.  **Deploy the Smart Contract:** The `test1.py` script compiles the `Voting.sol` contract, deploys it to the Ganache instance, and generates the `contract_meta.json` file needed by our API.\n",
    "    ```bash\n",
    "    python3 test1.py\n",
    "    ```\n",
    "3.  **Run the API Server:** The `app.py` script starts the Flask server, which exposes endpoints to interact with our smart contract.\n",
    "    ```bash\n",
    "    python3 app.py\n",
    "    ```\n",
    "\n",
    "*For the purpose of this notebook, we assume these three steps have been completed in separate terminal sessions.*"
   ]
  },
  {
   "cell_type": "markdown",
   "metadata": {},
   "source": [
    "## 2. Live Demonstration: Querying and Updating the Ledger\n",
    "\n",
    "Now, we will interact with our deployed smart contract using the Flask API. We'll use the `requests` library in Python to simulate a client application."
   ]
  },
  {
   "cell_type": "code",
   "execution_count": null,
   "metadata": {},
   "outputs": [],
   "source": [
    "import requests\n",
    "import json\n",
    "import pandas as pd\n",
    "\n",
    "# Define the base URL for our API\n",
    "API_BASE_URL = \"http://127.0.0.1:5001\"\n",
    "\n",
    "# The assets on our ledger are the candidates. Let's identify their addresses.\n",
    "# We can get these from the output of the `test1.py` script or by inspecting the Ganache startup logs.\n",
    "# For this demo, we'll hardcode the addresses from the last deployment run.\n",
    "CANDIDATE_ALICE = \"0x73F830209917126FCDB8968F44bd3239f655817A\"\n",
    "CANDIDATE_BOB = \"0x01b7182845f99ed8b66fF275491cc3718D812a3d\"\n",
    "\n",
    "candidates = {\n",
    "    \"Alice\": CANDIDATE_ALICE,\n",
    "    \"Bob\": CANDIDATE_BOB\n",
    "}\n",
    "\n",
    "print(\"Candidates for this election:\")\n",
    "for name, address in candidates.items():\n",
    "    print(f\"- {name}: {address}\")"
   ]
  },
  {
   "cell_type": "markdown",
   "metadata": {},
   "source": [
    "### Step 2.1: Query the Ledger - Initial State\n",
    "\n",
    "First, let's query the ledger to see the initial vote count for each candidate. We expect it to be zero for a newly deployed contract."
   ]
  },
  {
   "cell_type": "code",
   "execution_count": null,
   "metadata": {},
   "outputs": [],
   "source": [
    "def get_results():\n",
    "    results = []\n",
    "    for name, address in candidates.items():\n",
    "        response = requests.get(f\"{API_BASE_URL}/results/{address}\")\n",
    "        if response.status_code == 200:\n",
    "            results.append(response.json())\n",
    "        else:\n",
    "            print(f\"Error fetching results for {name}\")\n",
    "    return results\n",
    "\n",
    "initial_results = get_results()\n",
    "df_initial = pd.DataFrame(initial_results)\n",
    "\n",
    "print(\"Initial Vote Counts (Querying the Ledger):\")\n",
    "print(df_initial.to_string(index=False))"
   ]
  },
  {
   "cell_type": "markdown",
   "metadata": {},
   "source": [
    "### Step 2.2: Update the Ledger - Casting Votes\n",
    "\n",
    "Now, let's update the state of our ledger by casting several votes. Each vote is a transaction sent to the smart contract via our API. The transaction receipt is our proof that the ledger has been updated."
   ]
  },
  {
   "cell_type": "code",
   "execution_count": null,
   "metadata": {},
   "outputs": [],
   "source": [
    "def cast_vote(candidate_address):\n",
    "    url = f\"{API_BASE_URL}/vote\"\n",
    "    payload = {\"candidate_address\": candidate_address}\n",
    "    headers = {\"Content-Type\": \"application/json\"}\n",
    "    \n",
    "    print(f\"Casting vote for {candidate_address}...\")\n",
    "    response = requests.post(url, data=json.dumps(payload), headers=headers)\n",
    "    \n",
    "    if response.status_code == 200:\n",
    "        receipt = response.json().get('receipt', {}) \n",
    "        print(f\"  \\u2705 Vote successful! Transaction Hash: {receipt.get('transactionHash')}\")\n",
    "    else:\n",
    "        print(f\"  \\u274c Vote failed! Status: {response.status_code}, Body: {response.text}\")\n",
    "    return response\n",
    "\n",
    "# Let's simulate a few votes\n",
    "cast_vote(CANDIDATE_ALICE) # Vote 1 for Alice\n",
    "cast_vote(CANDIDATE_BOB)   # Vote 1 for Bob\n",
    "cast_vote(CANDIDATE_ALICE) # Vote 2 for Alice"
   ]
  },
  {
   "cell_type": "markdown",
   "metadata": {},
   "source": [
    "### Step 2.3: Query the Ledger - Final State\n",
    "\n",
    "With the votes cast, we now query the ledger again to see the updated results."
   ]
  },
  {
   "cell_type": "code",
   "execution_count": null,
   "metadata": {},
   "outputs": [],
   "source": [
    "final_results = get_results()\n",
    "df_final = pd.DataFrame(final_results)\n",
    "\n",
    "print(\"Final Vote Counts (Querying the Ledger After Updates):\")\n",
    "print(df_final.to_string(index=False))"
   ]
  },
  {
   "cell_type": "markdown",
   "metadata": {},
   "source": [
    "## 3. Analysis of Results\n",
    "\n",
    "The demonstration successfully showcased the two primary operations on our blockchain ledger: querying and updating assets (candidates). The final results show that Alice has 2 votes and Bob has 1, which matches the transactions we sent.\n",
    "\n",
    "### Immutability and Security\n",
    "\n",
    "Each successful vote returned a transaction hash. This hash is a unique identifier for the transaction on the blockchain. Once mined, this record is immutable and cannot be altered, providing a high degree of trust and auditability in the election results.\n",
    "\n",
    "Let's test the contract's security feature that prevents a user from voting more than once. The `VoteService` uses a single account (defined by the `PRIVATE_KEY` in the `.env` file) to send all transactions. If we try to vote again, the smart contract should reject the transaction."
   ]
  },
  {
   "cell_type": "code",
   "execution_count": null,
   "metadata": {},
   "outputs": [],
   "source": [
    "print(\"Attempting to vote for Alice again with the same account...\")\n",
    "response = cast_vote(CANDIDATE_ALICE)\n",
    "print(\"\\nFinal check of results after the failed vote attempt:\")\n",
    "final_results_after_fail = get_results()\n",
    "df_final_after_fail = pd.DataFrame(final_results_after_fail)\n",
    "print(df_final_after_fail.to_string(index=False))"
   ]
  },
  {
   "cell_type": "markdown",
   "metadata": {},
   "source": [
    "As expected, the smart contract's logic (`require(!voters[msg.sender].hasVoted, ...`) prevented the double vote. Although the API returns a success message (an area for improvement in the API's error handling), the final vote count for Alice remains unchanged at 2. This demonstrates the robustness of the on-chain logic."
   ]
  },
  {
   "cell_type": "markdown",
   "metadata": {},
   "source": [
    "## 4. Discussion and Learning Experience\n",
    "\n",
    "This project provided a practical, end-to-end journey through the process of building and interacting with a decentralized application.\n",
    "\n",
    "### Development Experience and Challenges\n",
    "\n",
    "1.  **Setting up the Development Environment:** The initial setup was a significant learning curve. It required orchestrating multiple, independent components: the Ganache blockchain simulator, the Solidity compiler (`solc-x`), the Web3.py library for blockchain interaction, and the Flask API server. Ensuring they all communicated correctly was the first major milestone.\n",
    "\n",
    "2.  **Smart Contract Logic:** Writing the `Voting.sol` contract was an excellent introduction to the logic of decentralized applications. The key was not just implementing the features, but also thinking defensively. The `require` statements are the contract's primary line of defense, ensuring that only valid actions can modify the state of the ledger. For example, preventing double voting and restricting administrative functions with `onlyOwner` are critical for the application's integrity.\n",
    "\n",
    "3.  **Bridging Off-Chain and On-Chain Worlds:** A major challenge, and a key learning experience, was making the on-chain logic accessible to a standard web user. The Flask API, using the `VoteService`, acts as this bridge. A significant problem I encountered during testing was that transaction failures on the blockchain (like a `revert`) did not automatically raise Python exceptions in the web3.py library calls. This required a shift in testing strategy: instead of just checking for exceptions, the tests needed to query the contract's state after a transaction to verify the *actual outcome*. This reflects a fundamental difference between traditional and blockchain application development.\n",
    "\n",
    "### Conclusion of Learning\n",
    "\n",
    "The project successfully demystifies the core concepts of blockchain technology. By building a tangible application, I moved from theoretical knowledge to practical implementation. The most profound takeaway is the clear distinction between the **on-chain logic (the smart contract)**, which serves as the ultimate source of truth, and the **off-chain application (the API)**, which provides a convenient but secondary interface to that truth. The API can have bugs, but the rules enforced by the smart contract remain inviolable, which is the fundamental value proposition of blockchain technology."
   ]
  }
 ],
 "metadata": {
  "kernelspec": {
   "display_name": "voting",
   "language": "python",
   "name": "python3"
  },
  "language_info": {
   "codemirror_mode": {
    "name": "ipython",
    "version": 3
   },
   "file_extension": ".py",
   "mimetype": "text/x-python",
   "name": "python",
   "nbconvert_exporter": "python",
   "pygments_lexer": "ipython3",
   "version": "3.10.18"
  }
 },
 "nbformat": 4,
 "nbformat_minor": 2
}
